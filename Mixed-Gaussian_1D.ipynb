{
 "cells": [
  {
   "cell_type": "code",
   "execution_count": 1,
   "id": "777f240f-8c37-4e8f-9233-45cc4519d2a8",
   "metadata": {},
   "outputs": [],
   "source": [
    "import torch\n",
    "import torch.nn as nn\n",
    "import torch.optim as optim\n",
    "import matplotlib.pyplot as plt\n",
    "\n",
    "from tqdm.notebook import tqdm_notebook as tqdm"
   ]
  },
  {
   "cell_type": "code",
   "execution_count": 2,
   "id": "e697f23d-79d2-4584-bf2e-e848755df0dc",
   "metadata": {},
   "outputs": [],
   "source": [
    "def simulate_xt(x0, t):\n",
    "    t = t.view(-1, 1)\n",
    "    m_t = torch.exp(-t)\n",
    "    sigma_t = torch.sqrt(1 - torch.exp(-2 * t))\n",
    "    z = torch.randn_like(x0)\n",
    "    xt = m_t * x0 + sigma_t * z\n",
    "    return xt, z, m_t, sigma_t"
   ]
  },
  {
   "cell_type": "code",
   "execution_count": 4,
   "id": "5953a17c-8dc5-4282-ae90-3631b358a56b",
   "metadata": {},
   "outputs": [],
   "source": [
    "N_SAMPLES = 100_000"
   ]
  },
  {
   "cell_type": "code",
   "execution_count": 97,
   "id": "5ee2bfd9",
   "metadata": {},
   "outputs": [
    {
     "data": {
      "image/png": "[encoded data removed]",
      "text/plain": [
       "<Figure size 1000x300 with 2 Axes>"
      ]
     },
     "metadata": {},
     "output_type": "display_data"
    }
   ],
   "source": [
    "import torch\n",
    "import matplotlib.pyplot as plt\n",
    "\n",
    "def simple_gmm_sample(N, pi=0.5, mu1=[0, 0], mu2=[3, 3], sigma1=1.0, sigma2=1.0, device='cpu'):\n",
    "\n",
    "    mu1 = torch.tensor(mu1, device=device)\n",
    "    mu2 = torch.tensor(mu2, device=device)\n",
    "\n",
    "    mix_indicator = torch.rand(N, device=device) < pi\n",
    "\n",
    "    eps = torch.randn(N, 2, device=device)\n",
    "\n",
    "    samples = torch.where(\n",
    "        mix_indicator.unsqueeze(1),\n",
    "        mu1 + sigma1 * eps,\n",
    "        mu2 + sigma2 * eps\n",
    "    )\n",
    "    return samples\n",
    "\n",
    "samples = simple_gmm_sample(N=10000, mu1=[0, 0], mu2=[3, 3], sigma1=1.0, sigma2=1.0)\n",
    "samples_np = samples.cpu().numpy()\n",
    "\n",
    "plt.figure(figsize=(10, 3))\n",
    "\n",
    "for i in range(2): \n",
    "    plt.subplot(1, 2, i+1)\n",
    "    plt.hist(samples_np[:, i], bins=40, density=True, alpha=0.7)\n",
    "    plt.title(f\"Histogram of Sample {i}\")\n",
    "    plt.xlabel(f\"X[{i}]\")\n",
    "    plt.ylabel(\"Density\")\n",
    "    plt.grid(True)\n",
    "\n",
    "plt.tight_layout()\n",
    "plt.show()\n"
   ]
  },
  {
   "cell_type": "code",
   "execution_count": 7,
   "id": "0ab17bba",
   "metadata": {},
   "outputs": [],
   "source": [
    "def generate_gmm_data(sample_fn, n_samples, T=6.0, device='cpu'):\n",
    "    x0 = sample_fn(n_samples).to(device)\n",
    "    t = torch.rand(n_samples, 1, device=device) * T\n",
    "    m_t = torch.exp(-t)\n",
    "    z = torch.randn(n_samples, 2, device=device)\n",
    "    xt = m_t * x0 + torch.sqrt(1 - m_t**2) * z\n",
    "    return x0, t, z, xt"
   ]
  },
  {
   "cell_type": "code",
   "execution_count": 8,
   "id": "eb6b0762-dd8b-4ca7-a3f1-f923be803dba",
   "metadata": {},
   "outputs": [],
   "source": [
    "device = \"cpu\""
   ]
  },
  {
   "cell_type": "code",
   "execution_count": 10,
   "id": "3d7e83b9",
   "metadata": {},
   "outputs": [],
   "source": [
    "class ScoreNet(nn.Module):\n",
    "    def __init__(self, d=2, N=128, activation='relu'):\n",
    "        super().__init__()\n",
    "        self.N = N\n",
    "        self.d = d\n",
    "        self.input_dim = d + 1\n",
    "\n",
    "        self.w = nn.Parameter(torch.randn(N, self.input_dim))\n",
    "        self.b = nn.Parameter(torch.randn(N))\n",
    "        self.a = nn.Parameter(torch.randn(N, d))\n",
    "\n",
    "        if activation == 'relu':\n",
    "            self.activation = torch.relu\n",
    "        elif activation == 'sigmoid':\n",
    "            self.activation = torch.sigmoid\n",
    "        else:\n",
    "            raise ValueError(\"Unknown activation\")\n",
    "\n",
    "    def forward(self, t, x):\n",
    "        if t.dim() == 1:\n",
    "            t = t.unsqueeze(1)\n",
    "        x_input = torch.cat([x, t], dim=1)\n",
    "\n",
    "        B = x_input.shape[0]\n",
    "\n",
    "        x_exp = x_input.unsqueeze(1)\n",
    "        w_exp = self.w.unsqueeze(0)\n",
    "        b_exp = self.b.unsqueeze(0).unsqueeze(-1)\n",
    "        a_exp = self.a.unsqueeze(0)\n",
    "\n",
    "        inner = torch.sum(w_exp * x_exp, dim=-1, keepdim=True)\n",
    "        h = self.activation(inner + b_exp)\n",
    "        contrib = h * a_exp\n",
    "\n",
    "        return contrib.mean(dim=1)"
   ]
  },
  {
   "cell_type": "code",
   "execution_count": 11,
   "id": "1dd62ad7",
   "metadata": {},
   "outputs": [],
   "source": [
    "import torch.nn as nn\n",
    "\n",
    "class ScoreNet(nn.Module):\n",
    "    def __init__(self, d=2, hidden_dim=128):\n",
    "        super().__init__()\n",
    "        input_dim = d + 1\n",
    "\n",
    "        self.net = nn.Sequential(\n",
    "            nn.Linear(input_dim, hidden_dim),\n",
    "            nn.ReLU(),\n",
    "            nn.Linear(hidden_dim, hidden_dim),\n",
    "            nn.ReLU(),\n",
    "            nn.Linear(hidden_dim, hidden_dim),\n",
    "            nn.ReLU(),\n",
    "            nn.Linear(hidden_dim, d)\n",
    "        )\n",
    "\n",
    "\n",
    "    def forward(self, t, x):\n",
    "        if t.dim() == 1:\n",
    "            t = t.unsqueeze(1)\n",
    "        x_in = torch.cat([x, t], dim=1)\n",
    "        return self.net(x_in)"
   ]
  },
  {
   "cell_type": "code",
   "execution_count": 13,
   "id": "85651315",
   "metadata": {},
   "outputs": [],
   "source": [
    "def compute_H(net, x0, t, z):\n",
    "    B, d = x0.shape\n",
    "    m_t = torch.exp(-t)\n",
    "    sigma_t = torch.sqrt(1 - torch.exp(-2 * t))\n",
    "    kappa_t = sigma_t ** 2\n",
    "    x_t = m_t * x0 + sigma_t * z\n",
    "    x_t.requires_grad_(True)\n",
    "\n",
    "    s = net(t, x_t)\n",
    "\n",
    "    total_grad = [torch.zeros_like(p) for p in net.parameters()]\n",
    "\n",
    "    for i in range(B):\n",
    "        x_i = x_t[i].view(1, -1).clone().detach().requires_grad_(True)\n",
    "        t_i = t[i].view(1, 1)\n",
    "        z_i = z[i]\n",
    "\n",
    "        s_i = net(t_i, x_i)[0]\n",
    "\n",
    "        sigma_inv_z = z_i / sigma_t[i]\n",
    "        coeff = sigma_inv_z + s_i\n",
    "\n",
    "        for j in range(d):\n",
    "            grad_sij = torch.autograd.grad(\n",
    "                outputs=s_i[j],\n",
    "                inputs=list(net.parameters()),\n",
    "                retain_graph=True,\n",
    "                create_graph=True,\n",
    "                allow_unused=True\n",
    "            )\n",
    "\n",
    "            for k in range(len(total_grad)):\n",
    "                if grad_sij[k] is not None:\n",
    "                    total_grad[k] += 2 * kappa_t[i, 0] * coeff[j] * grad_sij[k]\n",
    "\n",
    "    return total_grad"
   ]
  },
  {
   "cell_type": "code",
   "execution_count": 15,
   "id": "fdda548f",
   "metadata": {},
   "outputs": [],
   "source": [
    "def sgld_update(params, grads, lr, beta):\n",
    "    updated = []\n",
    "    for p, g in zip(params, grads):\n",
    "        noise = torch.randn_like(p)\n",
    "        noise_scale = (2 * lr / beta) ** 0.5\n",
    "        p_new = p - lr * g + noise_scale * noise\n",
    "        updated.append(p_new)\n",
    "    return updated"
   ]
  },
  {
   "cell_type": "code",
   "execution_count": 16,
   "id": "323e2544-6312-4b2a-af67-461850d41345",
   "metadata": {},
   "outputs": [
    {
     "data": {
      "text/plain": [
       "ScoreNet(\n",
       "  (net): Sequential(\n",
       "    (0): Linear(in_features=3, out_features=128, bias=True)\n",
       "    (1): ReLU()\n",
       "    (2): Linear(in_features=128, out_features=128, bias=True)\n",
       "    (3): ReLU()\n",
       "    (4): Linear(in_features=128, out_features=128, bias=True)\n",
       "    (5): ReLU()\n",
       "    (6): Linear(in_features=128, out_features=2, bias=True)\n",
       "  )\n",
       ")"
      ]
     },
     "execution_count": 16,
     "metadata": {},
     "output_type": "execute_result"
    }
   ],
   "source": [
    "net = ScoreNet()\n",
    "net.train()"
   ]
  },
  {
   "cell_type": "code",
   "execution_count": 17,
   "id": "fe369f58",
   "metadata": {},
   "outputs": [],
   "source": [
    "from functools import partial\n",
    "\n",
    "sample_fn = partial(simple_gmm_sample, \n",
    "                    pi=0.5,\n",
    "                    mu1=[0, 0],\n",
    "                    mu2=[3, 3],\n",
    "                    sigma1=1.0,\n",
    "                    sigma2=1.0,\n",
    "                    device=device)"
   ]
  },
  {
   "cell_type": "code",
   "execution_count": 18,
   "id": "70f433bc",
   "metadata": {},
   "outputs": [],
   "source": [
    "device = 'cuda' if torch.cuda.is_available() else 'cpu'\n",
    "net = ScoreNet(d=2).to(device)\n",
    "B, d = 64, 2\n",
    "lr = 1e-3\n",
    "beta = 10**8\n",
    "num_steps = 30000\n",
    "grad_norms = []\n",
    "theta_trajectory = []"
   ]
  },
  {
   "cell_type": "code",
   "execution_count": 19,
   "id": "08ed7e66",
   "metadata": {},
   "outputs": [],
   "source": [
    "best_H = float('inf')\n",
    "theta_hat_best = None\n",
    "\n",
    "for step in range(num_steps):\n",
    "    x0, t, z, xt = generate_gmm_data(sample_fn, n_samples=B, device=device)\n",
    "    grads = compute_H(net, x0, t, z)\n",
    "    grad_norm = torch.sqrt(sum(g.norm()**2 for g in grads if g is not None))\n",
    "    grad_norms.append(grad_norm.item())\n",
    "    updated_params = sgld_update(list(net.parameters()), grads, lr, beta)\n",
    "\n",
    "    with torch.no_grad():\n",
    "        for p, new_p in zip(net.parameters(), updated_params):\n",
    "            p.copy_(new_p)\n",
    "\n",
    "        H_value = sum((g**2).sum().item() for g in grads if g is not None)\n",
    "\n",
    "        if H_value < best_H:\n",
    "            best_H = H_value\n",
    "            theta_hat_best = {\n",
    "                name: p.detach().clone().cpu()\n",
    "                for name, p in net.named_parameters()\n",
    "            }\n",
    "\n",
    "\n",
    "        theta = torch.cat([p.flatten() for p in net.parameters()])\n",
    "        theta_trajectory.append(theta.cpu().numpy())"
   ]
  },
  {
   "cell_type": "code",
   "execution_count": 20,
   "id": "ee98cca5",
   "metadata": {},
   "outputs": [
    {
     "name": "stdout",
     "output_type": "stream",
     "text": [
      "net.0.weight 6.162117958068848\n",
      "net.0.bias 4.17299747467041\n",
      "net.2.weight 7.388264179229736\n",
      "net.2.bias 0.8601213693618774\n",
      "net.4.weight 6.977168083190918\n",
      "net.4.bias 0.8659413456916809\n",
      "net.6.weight 1.6956959962844849\n",
      "net.6.bias 0.03518209233880043\n"
     ]
    }
   ],
   "source": [
    "for name, p in net.named_parameters():\n",
    "    print(name, torch.norm(p).item())"
   ]
  },
  {
   "cell_type": "code",
   "execution_count": 21,
   "id": "81ec4726",
   "metadata": {},
   "outputs": [],
   "source": [
    "with torch.no_grad():\n",
    "    for name, p in net.named_parameters():\n",
    "        p.copy_(theta_hat_best[name].to(p.device))"
   ]
  },
  {
   "cell_type": "code",
   "execution_count": 22,
   "id": "701c2214",
   "metadata": {},
   "outputs": [
    {
     "data": {
      "image/png": "[encoded data removed]",
      "text/plain": [
       "<Figure size 800x400 with 1 Axes>"
      ]
     },
     "metadata": {},
     "output_type": "display_data"
    }
   ],
   "source": [
    "import matplotlib.pyplot as plt\n",
    "\n",
    "plt.figure(figsize=(8, 4))\n",
    "plt.plot(grad_norms)\n",
    "plt.title(\"The gradient norm at each step\")\n",
    "plt.xlabel(\"Step\")\n",
    "plt.ylabel(\"||∇θ H||\")\n",
    "plt.grid(True)\n",
    "plt.tight_layout()\n",
    "plt.show()\n"
   ]
  },
  {
   "cell_type": "code",
   "execution_count": 93,
   "id": "878ce3d0",
   "metadata": {},
   "outputs": [
    {
     "name": "stderr",
     "output_type": "stream",
     "text": [
      "100%|██████████████████████████████████| 100000/100000 [10:58<00:00, 151.95it/s]\n"
     ]
    }
   ],
   "source": [
    "import torch\n",
    "import numpy as np\n",
    "from tqdm import tqdm\n",
    "import matplotlib.pyplot as plt\n",
    "\n",
    "N_samples = 30000\n",
    "dim = 2\n",
    "K = 100000\n",
    "T = 6.0\n",
    "gamma = T/K\n",
    "timesteps = np.linspace(0, T, K + 1)\n",
    "device = 'cuda' if torch.cuda.is_available() else 'cpu'\n",
    "x0 = sample_fn(N_samples).to(device)\n",
    "t_T = torch.full((N_samples, 1), T, device=device)\n",
    "m_T = torch.exp(-t_T)\n",
    "sigma_T = torch.sqrt(1 - torch.exp(-2 * t_T))\n",
    "z = torch.randn_like(x0)\n",
    "x_T = m_T * x0 + sigma_T * z\n",
    "Y = x_T.clone()\n",
    "for k in tqdm(range(K)):\n",
    "    t_k = timesteps[k]\n",
    "    tau = torch.full((N_samples, 1), T - t_k, device=device)\n",
    "\n",
    "    with torch.no_grad():\n",
    "        s_val = net(tau, Y)\n",
    "\n",
    "    drift = Y + 2 * s_val\n",
    "    noise = torch.randn_like(Y)\n",
    "    Y = Y + gamma * drift + torch.sqrt(torch.tensor(2 * gamma)) * noise\n",
    "\n",
    "samples = Y.cpu().numpy()"
   ]
  },
  {
   "cell_type": "code",
   "execution_count": 98,
   "id": "acfcfd49",
   "metadata": {},
   "outputs": [
    {
     "data": {
      "image/png": "[encoded data removed]",
      "text/plain": [
       "<Figure size 1000x300 with 2 Axes>"
      ]
     },
     "metadata": {},
     "output_type": "display_data"
    }
   ],
   "source": [
    "plt.figure(figsize=(10, 3))\n",
    "\n",
    "for i in range(2):\n",
    "    plt.subplot(1, 2, i+1)\n",
    "    plt.hist(samples[:, i], bins=50, density=True, alpha=0.7)\n",
    "    plt.title(f\"Histogram of denoised sample {i}\")\n",
    "    plt.xlabel(f\"Y[{i}]\")\n",
    "    plt.ylabel(\"Density\")\n",
    "    plt.grid(True)\n",
    "\n",
    "plt.tight_layout()\n",
    "plt.show()\n"
   ]
  },
  {
   "cell_type": "code",
   "execution_count": null,
   "id": "674dcfb0",
   "metadata": {},
   "outputs": [],
   "source": []
  }
 ],
 "metadata": {
  "kernelspec": {
   "display_name": "Python 3 (ipykernel)",
   "language": "python",
   "name": "python3"
  },
  "language_info": {
   "codemirror_mode": {
    "name": "ipython",
    "version": 3
   },
   "file_extension": ".py",
   "mimetype": "text/x-python",
   "name": "python",
   "nbconvert_exporter": "python",
   "pygments_lexer": "ipython3",
   "version": "3.11.4"
  }
 },
 "nbformat": 4,
 "nbformat_minor": 5
}
